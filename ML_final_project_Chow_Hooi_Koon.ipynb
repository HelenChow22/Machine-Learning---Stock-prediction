{
 "cells": [
  {
   "cell_type": "markdown",
   "metadata": {},
   "source": [
    "## DS 105 - Machine Learning Project Proposal\n",
    "Student name: Chow Hooi Koon"
   ]
  },
  {
   "cell_type": "markdown",
   "metadata": {},
   "source": [
    "Project objective: Find out the best machine learning model which has the nearest prediction of the next day stock price. \n",
    "\n",
    "I will be using dataset from the open sources of yfinance (Yahoo Finance). \n",
    "I am going to predict the LVMH stock price (EPA: MC.PA). \n",
    "LVMH Moët Hennessy Louis Vuitton, commonly known as LVMH, is a French multinational corporation and conglomerate specializing in luxury goods, headquartered in Paris, France."
   ]
  },
  {
   "cell_type": "code",
   "execution_count": 1,
   "metadata": {},
   "outputs": [],
   "source": [
    "# import libraries\n",
    "\n",
    "import yfinance as yf  # use this library to upload data from Yahoo APT\n",
    "import pandas as pd\n",
    "import numpy as np\n",
    "import datetime\n",
    "import xgboost as xgb\n",
    "from xgboost import XGBRegressor\n",
    "import matplotlib.pyplot as plt\n",
    "import seaborn as sns\n",
    "from sklearn import metrics\n",
    "from sklearn.svm import SVR\n",
    "from sklearn.ensemble import RandomForestRegressor\n",
    "from sklearn.model_selection import train_test_split\n",
    "from sklearn.linear_model import LinearRegression\n",
    "from sklearn.metrics import confusion_matrix, accuracy_score\n",
    "%matplotlib inline\n",
    "plt.style.use('fivethirtyeight')"
   ]
  },
  {
   "cell_type": "markdown",
   "metadata": {},
   "source": [
    "# Step 1: Data Collection, Cleaning and Preparation"
   ]
  },
  {
   "cell_type": "code",
   "execution_count": 2,
   "metadata": {
    "scrolled": true
   },
   "outputs": [
    {
     "data": {
      "text/plain": [
       "{'zip': '75008',\n",
       " 'sector': 'Consumer Cyclical',\n",
       " 'fullTimeEmployees': 148343,\n",
       " 'longBusinessSummary': \"LVMH MoÃ«t Hennessy - Louis Vuitton, SociÃ©tÃ© EuropÃ©enne operates as a luxury products company. The company offers champagnes, wines, and spirits under the Ao Yun, Ardbeg, Belvedere, Bodega Numanthia, Cape Mentelle, Chandon, ChÃ¢teau Cheval Blanc, ChÃ¢teau d'Yquem, Cheval des Andes, Clos des Lambrays, Clos19, Cloudy Bay, Dom PÃ©rignon, Glenmorangie, Hennessy, Krug, Mercier, MoÃ«t & Chandon, Newton, Vineyard, Ruinart, Terrazas de los Andes, Veuve Clicquot, Volcan de mi Tierra, and Woodinville brands. It also provides fashion and leather products under the Berluti, Celine, Christian Dior, Emilio Pucci, Fendi, Givenchy, Kenzo, Loewe, Loro Piana, Louis Vuitton, Marc Jacobs, Moynat, Nicholas Kirkwood, Pink Shirtmaker, and Rimowa brands. In addition, the company offers perfumes and cosmetics under the Acqua di Parma, Benefit Cosmetics, Fenty Beauty by Rihanna, Fresh, Parfums Givenchy, Guerlain, Kat Von D Beauty, Kenzo Parfums, Maison Francis Kurkdjian, Make Up For Ever, Marc Jacobs Beauty, Parfums Christian Dior, and Perfumes Loewe brands; watches and jewelry under the Bvlgari, Chaumet, Fred, Hublot, TAG Heuerand Zenith brands; and custom-designed yachts under the Feadship brand name, as well as designs and builds luxury yachts under the Royal Van Lent brand. Further, it provides daily newspapers under the Les Ã\\x89chos brand; Belmond, a luxury tourism service; home other activities under the Belmond, Cheval Blanc, Connaissance des Arts, Cova, Investir, Jardin d'Acclimatation, La Samaritaine, Le Parisien, and Radio Classique brands; and selective retailing products under the DFS, La Grande Epicerie de Paris, Le Bon MarchÃ© Rive Gauche, Sephora, and Starboard Cruise brands, as well as operates Jardin d'Acclimatation, a leisure and amusement park. The company operates 4,915 stores worldwide. LVMH MoÃ«t Hennessy - Louis Vuitton, SociÃ©tÃ© EuropÃ©enne was incorporated in 1923 and is headquartered in Paris, France.\",\n",
       " 'city': 'Paris',\n",
       " 'phone': '33 1 44 13 22 22',\n",
       " 'country': 'France',\n",
       " 'companyOfficers': [],\n",
       " 'website': 'http://www.lvmh.com',\n",
       " 'maxAge': 1,\n",
       " 'address1': '22, Avenue Montaigne',\n",
       " 'fax': '33 1 44 13 22 23',\n",
       " 'industry': 'Luxury Goods',\n",
       " 'previousClose': 616,\n",
       " 'regularMarketOpen': 624.5,\n",
       " 'twoHundredDayAverage': 530.44305,\n",
       " 'trailingAnnualDividendYield': 0.0097402595,\n",
       " 'payoutRatio': 0.4936,\n",
       " 'volume24Hr': None,\n",
       " 'regularMarketDayHigh': 628.1,\n",
       " 'navPrice': None,\n",
       " 'averageDailyVolume10Day': 398465,\n",
       " 'totalAssets': None,\n",
       " 'regularMarketPreviousClose': 616,\n",
       " 'fiftyDayAverage': 604.5417,\n",
       " 'trailingAnnualDividendRate': 6,\n",
       " 'open': 624.5,\n",
       " 'toCurrency': None,\n",
       " 'averageVolume10days': 398465,\n",
       " 'expireDate': None,\n",
       " 'yield': None,\n",
       " 'algorithm': None,\n",
       " 'dividendRate': 6,\n",
       " 'exDividendDate': 1618876800,\n",
       " 'beta': 0.9787,\n",
       " 'circulatingSupply': None,\n",
       " 'startDate': None,\n",
       " 'regularMarketDayLow': 621.3,\n",
       " 'priceHint': 2,\n",
       " 'currency': 'EUR',\n",
       " 'trailingPE': 67.3927,\n",
       " 'regularMarketVolume': 336426,\n",
       " 'lastMarket': None,\n",
       " 'maxSupply': None,\n",
       " 'openInterest': None,\n",
       " 'marketCap': 316205629440,\n",
       " 'volumeAllCurrencies': None,\n",
       " 'strikePrice': None,\n",
       " 'averageVolume': 381626,\n",
       " 'priceToSalesTrailing12Months': 7.0817146,\n",
       " 'dayLow': 621.3,\n",
       " 'ask': 0,\n",
       " 'ytdReturn': None,\n",
       " 'askSize': 0,\n",
       " 'volume': 336426,\n",
       " 'fiftyTwoWeekHigh': 639.9,\n",
       " 'forwardPE': 45.18705,\n",
       " 'fromCurrency': None,\n",
       " 'fiveYearAvgDividendYield': 1.67,\n",
       " 'fiftyTwoWeekLow': 327.7,\n",
       " 'bid': 0,\n",
       " 'tradeable': False,\n",
       " 'dividendYield': 0.0097,\n",
       " 'bidSize': 0,\n",
       " 'dayHigh': 628.1,\n",
       " 'exchange': 'PAR',\n",
       " 'shortName': 'LVMH',\n",
       " 'longName': 'LVMH Moët Hennessy - Louis Vuitton, Société Européenne',\n",
       " 'exchangeTimezoneName': 'Europe/Paris',\n",
       " 'exchangeTimezoneShortName': 'CEST',\n",
       " 'isEsgPopulated': False,\n",
       " 'gmtOffSetMilliseconds': '7200000',\n",
       " 'quoteType': 'EQUITY',\n",
       " 'symbol': 'MC.PA',\n",
       " 'messageBoardId': 'finmb_195488',\n",
       " 'market': 'fr_market',\n",
       " 'annualHoldingsTurnover': None,\n",
       " 'enterpriseToRevenue': 7.36,\n",
       " 'beta3Year': None,\n",
       " 'profitMargins': 0.105299994,\n",
       " 'enterpriseToEbitda': 32.37,\n",
       " '52WeekChange': 0.86525357,\n",
       " 'morningStarRiskRating': None,\n",
       " 'forwardEps': 13.9,\n",
       " 'revenueQuarterlyGrowth': None,\n",
       " 'sharesOutstanding': 503432000,\n",
       " 'fundInceptionDate': None,\n",
       " 'annualReportExpenseRatio': None,\n",
       " 'bookValue': 74.245,\n",
       " 'sharesShort': None,\n",
       " 'sharesPercentSharesOut': None,\n",
       " 'fundFamily': None,\n",
       " 'lastFiscalYearEnd': 1609372800,\n",
       " 'heldPercentInstitutions': 0.20965,\n",
       " 'netIncomeToCommon': 4702000128,\n",
       " 'trailingEps': 9.32,\n",
       " 'lastDividendValue': 4,\n",
       " 'SandP52WeekChange': 0.43607914,\n",
       " 'priceToBook': 8.459828,\n",
       " 'heldPercentInsiders': 0.47609,\n",
       " 'nextFiscalYearEnd': 1672444800,\n",
       " 'mostRecentQuarter': 1609372800,\n",
       " 'shortRatio': None,\n",
       " 'sharesShortPreviousMonthDate': None,\n",
       " 'floatShares': 272093699,\n",
       " 'enterpriseValue': 328621850624,\n",
       " 'threeYearAverageReturn': None,\n",
       " 'lastSplitDate': 962582400,\n",
       " 'lastSplitFactor': '5:1',\n",
       " 'legalType': None,\n",
       " 'lastDividendDate': 1618876800,\n",
       " 'morningStarOverallRating': None,\n",
       " 'earningsQuarterlyGrowth': 0.071,\n",
       " 'dateShortInterest': None,\n",
       " 'pegRatio': None,\n",
       " 'lastCapGain': None,\n",
       " 'shortPercentOfFloat': None,\n",
       " 'sharesShortPriorMonth': None,\n",
       " 'impliedSharesOutstanding': None,\n",
       " 'category': None,\n",
       " 'fiveYearAverageReturn': None,\n",
       " 'regularMarketPrice': 628.1,\n",
       " 'logo_url': 'https://logo.clearbit.com/lvmh.com'}"
      ]
     },
     "execution_count": 2,
     "metadata": {},
     "output_type": "execute_result"
    }
   ],
   "source": [
    "# define the ticket\n",
    "lvmh = yf.Ticker('MC.PA')\n",
    "# display stock information\n",
    "lvmh.info"
   ]
  },
  {
   "cell_type": "code",
   "execution_count": 3,
   "metadata": {
    "scrolled": false
   },
   "outputs": [
    {
     "name": "stdout",
     "output_type": "stream",
     "text": [
      "[*********************100%***********************]  1 of 1 completed\n"
     ]
    },
    {
     "data": {
      "text/html": [
       "<div>\n",
       "<style scoped>\n",
       "    .dataframe tbody tr th:only-of-type {\n",
       "        vertical-align: middle;\n",
       "    }\n",
       "\n",
       "    .dataframe tbody tr th {\n",
       "        vertical-align: top;\n",
       "    }\n",
       "\n",
       "    .dataframe thead th {\n",
       "        text-align: right;\n",
       "    }\n",
       "</style>\n",
       "<table border=\"1\" class=\"dataframe\">\n",
       "  <thead>\n",
       "    <tr style=\"text-align: right;\">\n",
       "      <th></th>\n",
       "      <th>Open</th>\n",
       "      <th>High</th>\n",
       "      <th>Low</th>\n",
       "      <th>Close</th>\n",
       "      <th>Adj Close</th>\n",
       "      <th>Volume</th>\n",
       "    </tr>\n",
       "    <tr>\n",
       "      <th>Date</th>\n",
       "      <th></th>\n",
       "      <th></th>\n",
       "      <th></th>\n",
       "      <th></th>\n",
       "      <th></th>\n",
       "      <th></th>\n",
       "    </tr>\n",
       "  </thead>\n",
       "  <tbody>\n",
       "    <tr>\n",
       "      <th>2017-01-02</th>\n",
       "      <td>181.350006</td>\n",
       "      <td>182.000000</td>\n",
       "      <td>180.649994</td>\n",
       "      <td>181.800003</td>\n",
       "      <td>166.862595</td>\n",
       "      <td>287802</td>\n",
       "    </tr>\n",
       "    <tr>\n",
       "      <th>2017-01-03</th>\n",
       "      <td>182.100006</td>\n",
       "      <td>182.699997</td>\n",
       "      <td>179.449997</td>\n",
       "      <td>179.699997</td>\n",
       "      <td>164.935089</td>\n",
       "      <td>599351</td>\n",
       "    </tr>\n",
       "    <tr>\n",
       "      <th>2017-01-04</th>\n",
       "      <td>180.449997</td>\n",
       "      <td>180.500000</td>\n",
       "      <td>177.199997</td>\n",
       "      <td>178.100006</td>\n",
       "      <td>163.466599</td>\n",
       "      <td>635790</td>\n",
       "    </tr>\n",
       "    <tr>\n",
       "      <th>2017-01-05</th>\n",
       "      <td>177.350006</td>\n",
       "      <td>177.350006</td>\n",
       "      <td>175.800003</td>\n",
       "      <td>176.949997</td>\n",
       "      <td>162.411072</td>\n",
       "      <td>768148</td>\n",
       "    </tr>\n",
       "    <tr>\n",
       "      <th>2017-01-06</th>\n",
       "      <td>177.100006</td>\n",
       "      <td>179.550003</td>\n",
       "      <td>176.500000</td>\n",
       "      <td>179.250000</td>\n",
       "      <td>164.522095</td>\n",
       "      <td>551130</td>\n",
       "    </tr>\n",
       "    <tr>\n",
       "      <th>...</th>\n",
       "      <td>...</td>\n",
       "      <td>...</td>\n",
       "      <td>...</td>\n",
       "      <td>...</td>\n",
       "      <td>...</td>\n",
       "      <td>...</td>\n",
       "    </tr>\n",
       "    <tr>\n",
       "      <th>2021-04-26</th>\n",
       "      <td>623.900024</td>\n",
       "      <td>629.599976</td>\n",
       "      <td>622.000000</td>\n",
       "      <td>625.799988</td>\n",
       "      <td>625.799988</td>\n",
       "      <td>265587</td>\n",
       "    </tr>\n",
       "    <tr>\n",
       "      <th>2021-04-27</th>\n",
       "      <td>625.000000</td>\n",
       "      <td>633.900024</td>\n",
       "      <td>623.900024</td>\n",
       "      <td>632.700012</td>\n",
       "      <td>632.700012</td>\n",
       "      <td>320541</td>\n",
       "    </tr>\n",
       "    <tr>\n",
       "      <th>2021-04-28</th>\n",
       "      <td>632.700012</td>\n",
       "      <td>635.299988</td>\n",
       "      <td>628.599976</td>\n",
       "      <td>633.200012</td>\n",
       "      <td>633.200012</td>\n",
       "      <td>262268</td>\n",
       "    </tr>\n",
       "    <tr>\n",
       "      <th>2021-04-29</th>\n",
       "      <td>635.900024</td>\n",
       "      <td>639.900024</td>\n",
       "      <td>632.200012</td>\n",
       "      <td>635.700012</td>\n",
       "      <td>635.700012</td>\n",
       "      <td>290676</td>\n",
       "    </tr>\n",
       "    <tr>\n",
       "      <th>2021-04-30</th>\n",
       "      <td>635.500000</td>\n",
       "      <td>637.700012</td>\n",
       "      <td>625.700012</td>\n",
       "      <td>626.200012</td>\n",
       "      <td>626.200012</td>\n",
       "      <td>349054</td>\n",
       "    </tr>\n",
       "  </tbody>\n",
       "</table>\n",
       "<p>1106 rows × 6 columns</p>\n",
       "</div>"
      ],
      "text/plain": [
       "                  Open        High         Low       Close   Adj Close  Volume\n",
       "Date                                                                          \n",
       "2017-01-02  181.350006  182.000000  180.649994  181.800003  166.862595  287802\n",
       "2017-01-03  182.100006  182.699997  179.449997  179.699997  164.935089  599351\n",
       "2017-01-04  180.449997  180.500000  177.199997  178.100006  163.466599  635790\n",
       "2017-01-05  177.350006  177.350006  175.800003  176.949997  162.411072  768148\n",
       "2017-01-06  177.100006  179.550003  176.500000  179.250000  164.522095  551130\n",
       "...                ...         ...         ...         ...         ...     ...\n",
       "2021-04-26  623.900024  629.599976  622.000000  625.799988  625.799988  265587\n",
       "2021-04-27  625.000000  633.900024  623.900024  632.700012  632.700012  320541\n",
       "2021-04-28  632.700012  635.299988  628.599976  633.200012  633.200012  262268\n",
       "2021-04-29  635.900024  639.900024  632.200012  635.700012  635.700012  290676\n",
       "2021-04-30  635.500000  637.700012  625.700012  626.200012  626.200012  349054\n",
       "\n",
       "[1106 rows x 6 columns]"
      ]
     },
     "execution_count": 3,
     "metadata": {},
     "output_type": "execute_result"
    }
   ],
   "source": [
    "# get the stock data\n",
    "df = yf.download (\"MC.PA\", start=\"2017-01-02\", end=\"2021-05-01\")\n",
    "df"
   ]
  },
  {
   "cell_type": "code",
   "execution_count": 4,
   "metadata": {},
   "outputs": [
    {
     "name": "stdout",
     "output_type": "stream",
     "text": [
      "<class 'pandas.core.frame.DataFrame'>\n",
      "DatetimeIndex: 1106 entries, 2017-01-02 to 2021-04-30\n",
      "Data columns (total 6 columns):\n",
      " #   Column     Non-Null Count  Dtype  \n",
      "---  ------     --------------  -----  \n",
      " 0   Open       1106 non-null   float64\n",
      " 1   High       1106 non-null   float64\n",
      " 2   Low        1106 non-null   float64\n",
      " 3   Close      1106 non-null   float64\n",
      " 4   Adj Close  1106 non-null   float64\n",
      " 5   Volume     1106 non-null   int64  \n",
      "dtypes: float64(5), int64(1)\n",
      "memory usage: 60.5 KB\n"
     ]
    }
   ],
   "source": [
    "#display data set information\n",
    "df.info()"
   ]
  },
  {
   "cell_type": "code",
   "execution_count": 5,
   "metadata": {},
   "outputs": [
    {
     "data": {
      "text/plain": [
       "Open         0\n",
       "High         0\n",
       "Low          0\n",
       "Close        0\n",
       "Adj Close    0\n",
       "Volume       0\n",
       "dtype: int64"
      ]
     },
     "execution_count": 5,
     "metadata": {},
     "output_type": "execute_result"
    }
   ],
   "source": [
    "# check for null value\n",
    "df.isnull().sum()"
   ]
  },
  {
   "cell_type": "code",
   "execution_count": 6,
   "metadata": {
    "scrolled": true
   },
   "outputs": [
    {
     "data": {
      "text/html": [
       "<div>\n",
       "<style scoped>\n",
       "    .dataframe tbody tr th:only-of-type {\n",
       "        vertical-align: middle;\n",
       "    }\n",
       "\n",
       "    .dataframe tbody tr th {\n",
       "        vertical-align: top;\n",
       "    }\n",
       "\n",
       "    .dataframe thead th {\n",
       "        text-align: right;\n",
       "    }\n",
       "</style>\n",
       "<table border=\"1\" class=\"dataframe\">\n",
       "  <thead>\n",
       "    <tr style=\"text-align: right;\">\n",
       "      <th></th>\n",
       "      <th>Open</th>\n",
       "      <th>High</th>\n",
       "      <th>Low</th>\n",
       "      <th>Close</th>\n",
       "      <th>Adj Close</th>\n",
       "      <th>Volume</th>\n",
       "    </tr>\n",
       "  </thead>\n",
       "  <tbody>\n",
       "    <tr>\n",
       "      <th>count</th>\n",
       "      <td>1106.000000</td>\n",
       "      <td>1106.000000</td>\n",
       "      <td>1106.000000</td>\n",
       "      <td>1106.000000</td>\n",
       "      <td>1106.000000</td>\n",
       "      <td>1.106000e+03</td>\n",
       "    </tr>\n",
       "    <tr>\n",
       "      <th>mean</th>\n",
       "      <td>329.486031</td>\n",
       "      <td>332.634991</td>\n",
       "      <td>326.197558</td>\n",
       "      <td>329.617947</td>\n",
       "      <td>317.607665</td>\n",
       "      <td>6.089943e+05</td>\n",
       "    </tr>\n",
       "    <tr>\n",
       "      <th>std</th>\n",
       "      <td>98.568382</td>\n",
       "      <td>99.699664</td>\n",
       "      <td>97.623894</td>\n",
       "      <td>98.902431</td>\n",
       "      <td>102.825180</td>\n",
       "      <td>3.027314e+05</td>\n",
       "    </tr>\n",
       "    <tr>\n",
       "      <th>min</th>\n",
       "      <td>177.100006</td>\n",
       "      <td>177.350006</td>\n",
       "      <td>175.800003</td>\n",
       "      <td>176.949997</td>\n",
       "      <td>162.411072</td>\n",
       "      <td>0.000000e+00</td>\n",
       "    </tr>\n",
       "    <tr>\n",
       "      <th>25%</th>\n",
       "      <td>247.262497</td>\n",
       "      <td>249.012501</td>\n",
       "      <td>245.162495</td>\n",
       "      <td>246.949997</td>\n",
       "      <td>231.010235</td>\n",
       "      <td>4.273985e+05</td>\n",
       "    </tr>\n",
       "    <tr>\n",
       "      <th>50%</th>\n",
       "      <td>307.050003</td>\n",
       "      <td>309.850006</td>\n",
       "      <td>304.125000</td>\n",
       "      <td>307.824997</td>\n",
       "      <td>292.584869</td>\n",
       "      <td>5.447280e+05</td>\n",
       "    </tr>\n",
       "    <tr>\n",
       "      <th>75%</th>\n",
       "      <td>391.075005</td>\n",
       "      <td>394.499992</td>\n",
       "      <td>386.637497</td>\n",
       "      <td>391.200012</td>\n",
       "      <td>383.610451</td>\n",
       "      <td>6.966282e+05</td>\n",
       "    </tr>\n",
       "    <tr>\n",
       "      <th>max</th>\n",
       "      <td>635.900024</td>\n",
       "      <td>639.900024</td>\n",
       "      <td>632.200012</td>\n",
       "      <td>635.700012</td>\n",
       "      <td>635.700012</td>\n",
       "      <td>3.098476e+06</td>\n",
       "    </tr>\n",
       "  </tbody>\n",
       "</table>\n",
       "</div>"
      ],
      "text/plain": [
       "              Open         High          Low        Close    Adj Close  \\\n",
       "count  1106.000000  1106.000000  1106.000000  1106.000000  1106.000000   \n",
       "mean    329.486031   332.634991   326.197558   329.617947   317.607665   \n",
       "std      98.568382    99.699664    97.623894    98.902431   102.825180   \n",
       "min     177.100006   177.350006   175.800003   176.949997   162.411072   \n",
       "25%     247.262497   249.012501   245.162495   246.949997   231.010235   \n",
       "50%     307.050003   309.850006   304.125000   307.824997   292.584869   \n",
       "75%     391.075005   394.499992   386.637497   391.200012   383.610451   \n",
       "max     635.900024   639.900024   632.200012   635.700012   635.700012   \n",
       "\n",
       "             Volume  \n",
       "count  1.106000e+03  \n",
       "mean   6.089943e+05  \n",
       "std    3.027314e+05  \n",
       "min    0.000000e+00  \n",
       "25%    4.273985e+05  \n",
       "50%    5.447280e+05  \n",
       "75%    6.966282e+05  \n",
       "max    3.098476e+06  "
      ]
     },
     "execution_count": 6,
     "metadata": {},
     "output_type": "execute_result"
    }
   ],
   "source": [
    "# check for data set describtion \n",
    "df.describe()"
   ]
  },
  {
   "cell_type": "code",
   "execution_count": 7,
   "metadata": {
    "scrolled": true
   },
   "outputs": [
    {
     "data": {
      "text/plain": [
       "<AxesSubplot:xlabel='Date'>"
      ]
     },
     "execution_count": 7,
     "metadata": {},
     "output_type": "execute_result"
    },
    {
     "data": {
      "image/png": "[encoded data removed]",
      "text/plain": [
       "<Figure size 1152x360 with 1 Axes>"
      ]
     },
     "metadata": {},
     "output_type": "display_data"
    }
   ],
   "source": [
    "# Visualize the data set\n",
    "\n",
    "df['Adj Close'].plot(figsize=(16,5))"
   ]
  },
  {
   "cell_type": "markdown",
   "metadata": {},
   "source": [
    "# Step 2: Data Split"
   ]
  },
  {
   "cell_type": "code",
   "execution_count": 8,
   "metadata": {},
   "outputs": [
    {
     "data": {
      "text/html": [
       "<div>\n",
       "<style scoped>\n",
       "    .dataframe tbody tr th:only-of-type {\n",
       "        vertical-align: middle;\n",
       "    }\n",
       "\n",
       "    .dataframe tbody tr th {\n",
       "        vertical-align: top;\n",
       "    }\n",
       "\n",
       "    .dataframe thead th {\n",
       "        text-align: right;\n",
       "    }\n",
       "</style>\n",
       "<table border=\"1\" class=\"dataframe\">\n",
       "  <thead>\n",
       "    <tr style=\"text-align: right;\">\n",
       "      <th></th>\n",
       "      <th>Adj Close</th>\n",
       "    </tr>\n",
       "    <tr>\n",
       "      <th>Date</th>\n",
       "      <th></th>\n",
       "    </tr>\n",
       "  </thead>\n",
       "  <tbody>\n",
       "    <tr>\n",
       "      <th>2017-01-02</th>\n",
       "      <td>166.862595</td>\n",
       "    </tr>\n",
       "    <tr>\n",
       "      <th>2017-01-03</th>\n",
       "      <td>164.935089</td>\n",
       "    </tr>\n",
       "    <tr>\n",
       "      <th>2017-01-04</th>\n",
       "      <td>163.466599</td>\n",
       "    </tr>\n",
       "    <tr>\n",
       "      <th>2017-01-05</th>\n",
       "      <td>162.411072</td>\n",
       "    </tr>\n",
       "    <tr>\n",
       "      <th>2017-01-06</th>\n",
       "      <td>164.522095</td>\n",
       "    </tr>\n",
       "  </tbody>\n",
       "</table>\n",
       "</div>"
      ],
      "text/plain": [
       "             Adj Close\n",
       "Date                  \n",
       "2017-01-02  166.862595\n",
       "2017-01-03  164.935089\n",
       "2017-01-04  163.466599\n",
       "2017-01-05  162.411072\n",
       "2017-01-06  164.522095"
      ]
     },
     "execution_count": 8,
     "metadata": {},
     "output_type": "execute_result"
    }
   ],
   "source": [
    "# get the Adjusted Close Price\n",
    "df = df[['Adj Close']]\n",
    "df.head()"
   ]
  },
  {
   "cell_type": "code",
   "execution_count": 9,
   "metadata": {
    "scrolled": true
   },
   "outputs": [
    {
     "data": {
      "text/html": [
       "<div>\n",
       "<style scoped>\n",
       "    .dataframe tbody tr th:only-of-type {\n",
       "        vertical-align: middle;\n",
       "    }\n",
       "\n",
       "    .dataframe tbody tr th {\n",
       "        vertical-align: top;\n",
       "    }\n",
       "\n",
       "    .dataframe thead th {\n",
       "        text-align: right;\n",
       "    }\n",
       "</style>\n",
       "<table border=\"1\" class=\"dataframe\">\n",
       "  <thead>\n",
       "    <tr style=\"text-align: right;\">\n",
       "      <th></th>\n",
       "      <th>Adj Close</th>\n",
       "      <th>Prediction</th>\n",
       "    </tr>\n",
       "    <tr>\n",
       "      <th>Date</th>\n",
       "      <th></th>\n",
       "      <th></th>\n",
       "    </tr>\n",
       "  </thead>\n",
       "  <tbody>\n",
       "    <tr>\n",
       "      <th>2021-04-26</th>\n",
       "      <td>625.799988</td>\n",
       "      <td>632.700012</td>\n",
       "    </tr>\n",
       "    <tr>\n",
       "      <th>2021-04-27</th>\n",
       "      <td>632.700012</td>\n",
       "      <td>633.200012</td>\n",
       "    </tr>\n",
       "    <tr>\n",
       "      <th>2021-04-28</th>\n",
       "      <td>633.200012</td>\n",
       "      <td>635.700012</td>\n",
       "    </tr>\n",
       "    <tr>\n",
       "      <th>2021-04-29</th>\n",
       "      <td>635.700012</td>\n",
       "      <td>626.200012</td>\n",
       "    </tr>\n",
       "    <tr>\n",
       "      <th>2021-04-30</th>\n",
       "      <td>626.200012</td>\n",
       "      <td>NaN</td>\n",
       "    </tr>\n",
       "  </tbody>\n",
       "</table>\n",
       "</div>"
      ],
      "text/plain": [
       "             Adj Close  Prediction\n",
       "Date                              \n",
       "2021-04-26  625.799988  632.700012\n",
       "2021-04-27  632.700012  633.200012\n",
       "2021-04-28  633.200012  635.700012\n",
       "2021-04-29  635.700012  626.200012\n",
       "2021-04-30  626.200012         NaN"
      ]
     },
     "execution_count": 9,
     "metadata": {},
     "output_type": "execute_result"
    }
   ],
   "source": [
    "# A variable for predicting 'n' days out into the furure\n",
    "forecast_out = 1\n",
    "# Create another column the target or dependent variable shifted 'n' units up\n",
    "df = pd.DataFrame({'Adj Close': df['Adj Close'],'Prediction': df['Adj Close'].shift(-forecast_out)})\n",
    "df.tail()"
   ]
  },
  {
   "cell_type": "code",
   "execution_count": 10,
   "metadata": {},
   "outputs": [
    {
     "data": {
      "text/plain": [
       "array([[166.8625946 ],\n",
       "       [164.93508911],\n",
       "       [163.46659851],\n",
       "       ...,\n",
       "       [632.70001221],\n",
       "       [633.20001221],\n",
       "       [635.70001221]])"
      ]
     },
     "execution_count": 10,
     "metadata": {},
     "output_type": "execute_result"
    }
   ],
   "source": [
    "# create the independent data set (X)\n",
    "# convert the dataframe to a numpy array\n",
    "X = np.array(df.drop(['Prediction'],1))\n",
    "# remove the last 'n' rows\n",
    "X = X[:-forecast_out]\n",
    "X"
   ]
  },
  {
   "cell_type": "code",
   "execution_count": 11,
   "metadata": {},
   "outputs": [
    {
     "data": {
      "text/plain": [
       "array([164.93508911, 163.46659851, 162.41107178, ..., 633.20001221,\n",
       "       635.70001221, 626.20001221])"
      ]
     },
     "execution_count": 11,
     "metadata": {},
     "output_type": "execute_result"
    }
   ],
   "source": [
    "# create the dependent data set (y)\n",
    "# convert the dataframe to a numpy array\n",
    "y = np.array(df['Prediction'])\n",
    "# get all of the y values except the last 'n' rows\n",
    "y = y[:-forecast_out]\n",
    "y"
   ]
  },
  {
   "cell_type": "code",
   "execution_count": 12,
   "metadata": {},
   "outputs": [],
   "source": [
    "# split the data into 80% training and 20% testing\n",
    "x_train,x_test, y_train, y_test = train_test_split(X, y, test_size=0.2, random_state=0)"
   ]
  },
  {
   "cell_type": "code",
   "execution_count": 13,
   "metadata": {},
   "outputs": [
    {
     "name": "stdout",
     "output_type": "stream",
     "text": [
      "(884, 1)\n",
      "(221, 1)\n",
      "(884,)\n",
      "(221,)\n"
     ]
    }
   ],
   "source": [
    "# check if total observation makes sense\n",
    "print(x_train.shape)\n",
    "print(x_test.shape)\n",
    "print(y_train.shape)\n",
    "print(y_test.shape)"
   ]
  },
  {
   "cell_type": "markdown",
   "metadata": {},
   "source": [
    "# Step 3: Machine Learning Model building \n",
    "1) Support Vector Regressor \\\n",
    "2) Linear Regression \\\n",
    "3) Random Forest Regression \\\n",
    "4) XGBoost"
   ]
  },
  {
   "cell_type": "markdown",
   "metadata": {},
   "source": [
    "## 1) Support Vector Regressor"
   ]
  },
  {
   "cell_type": "code",
   "execution_count": 14,
   "metadata": {},
   "outputs": [
    {
     "data": {
      "text/plain": [
       "SVR(C=1000.0, gamma=0.1)"
      ]
     },
     "execution_count": 14,
     "metadata": {},
     "output_type": "execute_result"
    }
   ],
   "source": [
    "# create and train the Support Vector Machine\n",
    "svr_rbf = SVR(kernel='rbf', C=1000.0, gamma=0.1)\n",
    "svr_rbf.fit(x_train, y_train)"
   ]
  },
  {
   "cell_type": "code",
   "execution_count": 15,
   "metadata": {},
   "outputs": [
    {
     "name": "stdout",
     "output_type": "stream",
     "text": [
      "svm confidence: 0.9947219169262755\n"
     ]
    }
   ],
   "source": [
    "# testing model: score returns the coefficient of determination R^2 of the prediction.\n",
    "# the best possible score is 1.0\n",
    "svm_confidence = svr_rbf.score(x_test, y_test)\n",
    "print (\"svm confidence:\", svm_confidence)"
   ]
  },
  {
   "cell_type": "code",
   "execution_count": 16,
   "metadata": {},
   "outputs": [],
   "source": [
    "# Model Evaluation\n",
    "svr_rbf_predicted = svr_rbf.predict(x_test)"
   ]
  },
  {
   "cell_type": "code",
   "execution_count": 17,
   "metadata": {
    "scrolled": true
   },
   "outputs": [
    {
     "name": "stdout",
     "output_type": "stream",
     "text": [
      "Mean Absolute Error (MAE): 5.13202266454877\n",
      "Mean Squared Error (MSE) : 54.99367074605089\n",
      "Root Mean Squared Error (RMSE): 7.415771756604358\n"
     ]
    }
   ],
   "source": [
    "svr_rbf_mae = metrics.mean_absolute_error(y_test, svr_rbf_predicted)\n",
    "print ('Mean Absolute Error (MAE):', svr_rbf_mae)\n",
    "svr_rbf_mse = metrics.mean_squared_error(y_test, svr_rbf_predicted)\n",
    "print ('Mean Squared Error (MSE) :', svr_rbf_mse)\n",
    "svr_rbf_rmse = np.sqrt(metrics.mean_squared_error(y_test, svr_rbf_predicted))\n",
    "print ('Root Mean Squared Error (RMSE):', svr_rbf_rmse)               "
   ]
  },
  {
   "cell_type": "code",
   "execution_count": 18,
   "metadata": {},
   "outputs": [],
   "source": [
    "# convert data set \n",
    "\n",
    "df_svrr = pd.Series({'Mean Absolute Error' : svr_rbf_mae, 'Mean Square Error': svr_rbf_mse, 'Root Mean Squared Error': svr_rbf_rmse})\n",
    "df_svrr = df_svrr.reset_index()\n",
    "df_svrr = df_svrr.rename(columns = {0:'SVR', 'index':'Eval'}, inplace=False)"
   ]
  },
  {
   "cell_type": "code",
   "execution_count": 19,
   "metadata": {},
   "outputs": [
    {
     "data": {
      "text/html": [
       "<div>\n",
       "<style scoped>\n",
       "    .dataframe tbody tr th:only-of-type {\n",
       "        vertical-align: middle;\n",
       "    }\n",
       "\n",
       "    .dataframe tbody tr th {\n",
       "        vertical-align: top;\n",
       "    }\n",
       "\n",
       "    .dataframe thead th {\n",
       "        text-align: right;\n",
       "    }\n",
       "</style>\n",
       "<table border=\"1\" class=\"dataframe\">\n",
       "  <thead>\n",
       "    <tr style=\"text-align: right;\">\n",
       "      <th></th>\n",
       "      <th>Eval</th>\n",
       "      <th>SVR</th>\n",
       "    </tr>\n",
       "  </thead>\n",
       "  <tbody>\n",
       "    <tr>\n",
       "      <th>0</th>\n",
       "      <td>Mean Absolute Error</td>\n",
       "      <td>5.132023</td>\n",
       "    </tr>\n",
       "    <tr>\n",
       "      <th>1</th>\n",
       "      <td>Mean Square Error</td>\n",
       "      <td>54.993671</td>\n",
       "    </tr>\n",
       "    <tr>\n",
       "      <th>2</th>\n",
       "      <td>Root Mean Squared Error</td>\n",
       "      <td>7.415772</td>\n",
       "    </tr>\n",
       "  </tbody>\n",
       "</table>\n",
       "</div>"
      ],
      "text/plain": [
       "                      Eval        SVR\n",
       "0      Mean Absolute Error   5.132023\n",
       "1        Mean Square Error  54.993671\n",
       "2  Root Mean Squared Error   7.415772"
      ]
     },
     "execution_count": 19,
     "metadata": {},
     "output_type": "execute_result"
    }
   ],
   "source": [
    "df_svrr"
   ]
  },
  {
   "cell_type": "code",
   "execution_count": 20,
   "metadata": {},
   "outputs": [
    {
     "data": {
      "text/html": [
       "<div>\n",
       "<style scoped>\n",
       "    .dataframe tbody tr th:only-of-type {\n",
       "        vertical-align: middle;\n",
       "    }\n",
       "\n",
       "    .dataframe tbody tr th {\n",
       "        vertical-align: top;\n",
       "    }\n",
       "\n",
       "    .dataframe thead th {\n",
       "        text-align: right;\n",
       "    }\n",
       "</style>\n",
       "<table border=\"1\" class=\"dataframe\">\n",
       "  <thead>\n",
       "    <tr style=\"text-align: right;\">\n",
       "      <th></th>\n",
       "      <th>Adj_Close</th>\n",
       "      <th>SVR_Predicted</th>\n",
       "    </tr>\n",
       "  </thead>\n",
       "  <tbody>\n",
       "    <tr>\n",
       "      <th>0</th>\n",
       "      <td>415.583221</td>\n",
       "      <td>423.679488</td>\n",
       "    </tr>\n",
       "    <tr>\n",
       "      <th>1</th>\n",
       "      <td>387.086121</td>\n",
       "      <td>384.476244</td>\n",
       "    </tr>\n",
       "    <tr>\n",
       "      <th>2</th>\n",
       "      <td>244.748245</td>\n",
       "      <td>243.259984</td>\n",
       "    </tr>\n",
       "    <tr>\n",
       "      <th>3</th>\n",
       "      <td>339.699341</td>\n",
       "      <td>337.767951</td>\n",
       "    </tr>\n",
       "    <tr>\n",
       "      <th>4</th>\n",
       "      <td>254.549515</td>\n",
       "      <td>247.465905</td>\n",
       "    </tr>\n",
       "    <tr>\n",
       "      <th>...</th>\n",
       "      <td>...</td>\n",
       "      <td>...</td>\n",
       "    </tr>\n",
       "    <tr>\n",
       "      <th>216</th>\n",
       "      <td>367.741669</td>\n",
       "      <td>370.251568</td>\n",
       "    </tr>\n",
       "    <tr>\n",
       "      <th>217</th>\n",
       "      <td>235.676529</td>\n",
       "      <td>225.798458</td>\n",
       "    </tr>\n",
       "    <tr>\n",
       "      <th>218</th>\n",
       "      <td>549.857727</td>\n",
       "      <td>555.371139</td>\n",
       "    </tr>\n",
       "    <tr>\n",
       "      <th>219</th>\n",
       "      <td>240.392105</td>\n",
       "      <td>245.866044</td>\n",
       "    </tr>\n",
       "    <tr>\n",
       "      <th>220</th>\n",
       "      <td>550.652588</td>\n",
       "      <td>550.973260</td>\n",
       "    </tr>\n",
       "  </tbody>\n",
       "</table>\n",
       "<p>221 rows × 2 columns</p>\n",
       "</div>"
      ],
      "text/plain": [
       "      Adj_Close  SVR_Predicted\n",
       "0    415.583221     423.679488\n",
       "1    387.086121     384.476244\n",
       "2    244.748245     243.259984\n",
       "3    339.699341     337.767951\n",
       "4    254.549515     247.465905\n",
       "..          ...            ...\n",
       "216  367.741669     370.251568\n",
       "217  235.676529     225.798458\n",
       "218  549.857727     555.371139\n",
       "219  240.392105     245.866044\n",
       "220  550.652588     550.973260\n",
       "\n",
       "[221 rows x 2 columns]"
      ]
     },
     "execution_count": 20,
     "metadata": {},
     "output_type": "execute_result"
    }
   ],
   "source": [
    "df_svr = pd.DataFrame({'Adj_Close' : y_test, 'SVR_Predicted' : svr_rbf_predicted})\n",
    "df_svr"
   ]
  },
  {
   "cell_type": "code",
   "execution_count": 22,
   "metadata": {},
   "outputs": [
    {
     "data": {
      "image/png": "[encoded data removed]",
      "text/plain": [
       "<Figure size 432x288 with 1 Axes>"
      ]
     },
     "metadata": {},
     "output_type": "display_data"
    }
   ],
   "source": [
    "# data visualization\n",
    "\n",
    "plt.scatter(df_svr.Adj_Close, df_svr.SVR_Predicted, color='Darkblue')\n",
    "plt.title('Support Vector Regressor')\n",
    "plt.xlabel(\"Actual Adj Close Price\")\n",
    "plt.ylabel(\"Predicted Price\")\n",
    "plt.show()"
   ]
  },
  {
   "cell_type": "code",
   "execution_count": 23,
   "metadata": {
    "scrolled": true
   },
   "outputs": [
    {
     "name": "stderr",
     "output_type": "stream",
     "text": [
      "No handles with labels found to put in legend.\n"
     ]
    },
    {
     "data": {
      "text/plain": [
       "<matplotlib.legend.Legend at 0x2911bf687f0>"
      ]
     },
     "execution_count": 23,
     "metadata": {},
     "output_type": "execute_result"
    },
    {
     "data": {
      "image/png": "[encoded data removed]",
      "text/plain": [
       "<Figure size 432x288 with 1 Axes>"
      ]
     },
     "metadata": {},
     "output_type": "display_data"
    }
   ],
   "source": [
    "# data visualization \n",
    "\n",
    "plt.title(\"LVMH SVR Prediction chart\")\n",
    "plt.plot(df_svr.Adj_Close, color='m')\n",
    "plt.plot(df_svr.SVR_Predicted, color='lightblue')\n",
    "plt.legend()"
   ]
  },
  {
   "cell_type": "markdown",
   "metadata": {},
   "source": [
    "## 2) Linear Regression"
   ]
  },
  {
   "cell_type": "code",
   "execution_count": 24,
   "metadata": {},
   "outputs": [
    {
     "data": {
      "text/plain": [
       "LinearRegression()"
      ]
     },
     "execution_count": 24,
     "metadata": {},
     "output_type": "execute_result"
    }
   ],
   "source": [
    "# create and train the Linear Regression Model\n",
    "lr = LinearRegression()\n",
    "# train the model\n",
    "lr.fit(x_train, y_train)"
   ]
  },
  {
   "cell_type": "code",
   "execution_count": 25,
   "metadata": {
    "scrolled": true
   },
   "outputs": [
    {
     "name": "stdout",
     "output_type": "stream",
     "text": [
      "lr confidence: 0.9961490701239754\n"
     ]
    }
   ],
   "source": [
    "# testing model: score returns the coefficient of determination R^2 of the prediction.\n",
    "# the best possible score is 1.0\n",
    "lr_confidence = lr.score(x_test, y_test)\n",
    "print (\"lr confidence:\", lr_confidence)"
   ]
  },
  {
   "cell_type": "code",
   "execution_count": 26,
   "metadata": {},
   "outputs": [],
   "source": [
    "# Model Evaluation \n",
    "lr_predicted = lr.predict(x_test)"
   ]
  },
  {
   "cell_type": "code",
   "execution_count": 27,
   "metadata": {},
   "outputs": [
    {
     "name": "stdout",
     "output_type": "stream",
     "text": [
      "Mean Absolute Error (MAE): 4.319618087385104\n",
      "Mean Squared Error (MSE) : 40.1238037958336\n",
      "Root Mean Squared Error (RMSE): 6.3343353081308855\n"
     ]
    }
   ],
   "source": [
    "lr_mae = metrics.mean_absolute_error(y_test, lr_predicted)\n",
    "print ('Mean Absolute Error (MAE):', lr_mae)\n",
    "lr_mse = metrics.mean_squared_error(y_test, lr_predicted)\n",
    "print ('Mean Squared Error (MSE) :', lr_mse)\n",
    "lr_rmse = np.sqrt(metrics.mean_squared_error(y_test, lr_predicted))\n",
    "print ('Root Mean Squared Error (RMSE):', lr_rmse) "
   ]
  },
  {
   "cell_type": "code",
   "execution_count": 28,
   "metadata": {},
   "outputs": [],
   "source": [
    "# convert data set\n",
    "\n",
    "df_lrr = pd.Series({'Mean Absolute Error' : lr_mae, 'Mean Square Error': lr_mse, 'Root Mean Squared Error': lr_rmse})\n",
    "df_lrr = df_lrr.reset_index()\n",
    "df_lrr = df_lrr.rename(columns = {0:'LR', 'index':'Eval'}, inplace=False)"
   ]
  },
  {
   "cell_type": "code",
   "execution_count": 29,
   "metadata": {},
   "outputs": [
    {
     "data": {
      "text/html": [
       "<div>\n",
       "<style scoped>\n",
       "    .dataframe tbody tr th:only-of-type {\n",
       "        vertical-align: middle;\n",
       "    }\n",
       "\n",
       "    .dataframe tbody tr th {\n",
       "        vertical-align: top;\n",
       "    }\n",
       "\n",
       "    .dataframe thead th {\n",
       "        text-align: right;\n",
       "    }\n",
       "</style>\n",
       "<table border=\"1\" class=\"dataframe\">\n",
       "  <thead>\n",
       "    <tr style=\"text-align: right;\">\n",
       "      <th></th>\n",
       "      <th>Eval</th>\n",
       "      <th>LR</th>\n",
       "    </tr>\n",
       "  </thead>\n",
       "  <tbody>\n",
       "    <tr>\n",
       "      <th>0</th>\n",
       "      <td>Mean Absolute Error</td>\n",
       "      <td>4.319618</td>\n",
       "    </tr>\n",
       "    <tr>\n",
       "      <th>1</th>\n",
       "      <td>Mean Square Error</td>\n",
       "      <td>40.123804</td>\n",
       "    </tr>\n",
       "    <tr>\n",
       "      <th>2</th>\n",
       "      <td>Root Mean Squared Error</td>\n",
       "      <td>6.334335</td>\n",
       "    </tr>\n",
       "  </tbody>\n",
       "</table>\n",
       "</div>"
      ],
      "text/plain": [
       "                      Eval         LR\n",
       "0      Mean Absolute Error   4.319618\n",
       "1        Mean Square Error  40.123804\n",
       "2  Root Mean Squared Error   6.334335"
      ]
     },
     "execution_count": 29,
     "metadata": {},
     "output_type": "execute_result"
    }
   ],
   "source": [
    "df_lrr"
   ]
  },
  {
   "cell_type": "code",
   "execution_count": 30,
   "metadata": {
    "scrolled": true
   },
   "outputs": [
    {
     "data": {
      "text/html": [
       "<div>\n",
       "<style scoped>\n",
       "    .dataframe tbody tr th:only-of-type {\n",
       "        vertical-align: middle;\n",
       "    }\n",
       "\n",
       "    .dataframe tbody tr th {\n",
       "        vertical-align: top;\n",
       "    }\n",
       "\n",
       "    .dataframe thead th {\n",
       "        text-align: right;\n",
       "    }\n",
       "</style>\n",
       "<table border=\"1\" class=\"dataframe\">\n",
       "  <thead>\n",
       "    <tr style=\"text-align: right;\">\n",
       "      <th></th>\n",
       "      <th>Adj_Close</th>\n",
       "      <th>LR_Predicted</th>\n",
       "    </tr>\n",
       "  </thead>\n",
       "  <tbody>\n",
       "    <tr>\n",
       "      <th>0</th>\n",
       "      <td>415.583221</td>\n",
       "      <td>421.882903</td>\n",
       "    </tr>\n",
       "    <tr>\n",
       "      <th>1</th>\n",
       "      <td>387.086121</td>\n",
       "      <td>387.309614</td>\n",
       "    </tr>\n",
       "    <tr>\n",
       "      <th>2</th>\n",
       "      <td>244.748245</td>\n",
       "      <td>245.056685</td>\n",
       "    </tr>\n",
       "    <tr>\n",
       "      <th>3</th>\n",
       "      <td>339.699341</td>\n",
       "      <td>331.833249</td>\n",
       "    </tr>\n",
       "    <tr>\n",
       "      <th>4</th>\n",
       "      <td>254.549515</td>\n",
       "      <td>246.429461</td>\n",
       "    </tr>\n",
       "    <tr>\n",
       "      <th>...</th>\n",
       "      <td>...</td>\n",
       "      <td>...</td>\n",
       "    </tr>\n",
       "    <tr>\n",
       "      <th>216</th>\n",
       "      <td>367.741669</td>\n",
       "      <td>368.613292</td>\n",
       "    </tr>\n",
       "    <tr>\n",
       "      <th>217</th>\n",
       "      <td>235.676529</td>\n",
       "      <td>224.949695</td>\n",
       "    </tr>\n",
       "    <tr>\n",
       "      <th>218</th>\n",
       "      <td>549.857727</td>\n",
       "      <td>550.832860</td>\n",
       "    </tr>\n",
       "    <tr>\n",
       "      <th>219</th>\n",
       "      <td>240.392105</td>\n",
       "      <td>245.766748</td>\n",
       "    </tr>\n",
       "    <tr>\n",
       "      <th>220</th>\n",
       "      <td>550.652588</td>\n",
       "      <td>553.216812</td>\n",
       "    </tr>\n",
       "  </tbody>\n",
       "</table>\n",
       "<p>221 rows × 2 columns</p>\n",
       "</div>"
      ],
      "text/plain": [
       "      Adj_Close  LR_Predicted\n",
       "0    415.583221    421.882903\n",
       "1    387.086121    387.309614\n",
       "2    244.748245    245.056685\n",
       "3    339.699341    331.833249\n",
       "4    254.549515    246.429461\n",
       "..          ...           ...\n",
       "216  367.741669    368.613292\n",
       "217  235.676529    224.949695\n",
       "218  549.857727    550.832860\n",
       "219  240.392105    245.766748\n",
       "220  550.652588    553.216812\n",
       "\n",
       "[221 rows x 2 columns]"
      ]
     },
     "execution_count": 30,
     "metadata": {},
     "output_type": "execute_result"
    }
   ],
   "source": [
    "df_lr = pd.DataFrame({'Adj_Close' : y_test, 'LR_Predicted' : lr_predicted})\n",
    "df_lr"
   ]
  },
  {
   "cell_type": "code",
   "execution_count": 31,
   "metadata": {},
   "outputs": [
    {
     "data": {
      "image/png": "[encoded data removed]",
      "text/plain": [
       "<Figure size 432x288 with 1 Axes>"
      ]
     },
     "metadata": {},
     "output_type": "display_data"
    }
   ],
   "source": [
    "# data visualization\n",
    "\n",
    "plt.scatter(df_lr.Adj_Close, df_lr.LR_Predicted, color='green')\n",
    "plt.title('Linear Regression')\n",
    "plt.xlabel(\"Actual Adj Close Price\")\n",
    "plt.ylabel(\"Predicted Price\")\n",
    "plt.show()"
   ]
  },
  {
   "cell_type": "code",
   "execution_count": 32,
   "metadata": {
    "scrolled": true
   },
   "outputs": [
    {
     "name": "stderr",
     "output_type": "stream",
     "text": [
      "No handles with labels found to put in legend.\n"
     ]
    },
    {
     "data": {
      "text/plain": [
       "<matplotlib.legend.Legend at 0x2911c0851f0>"
      ]
     },
     "execution_count": 32,
     "metadata": {},
     "output_type": "execute_result"
    },
    {
     "data": {
      "image/png": "[encoded data removed]",
      "text/plain": [
       "<Figure size 432x288 with 1 Axes>"
      ]
     },
     "metadata": {},
     "output_type": "display_data"
    }
   ],
   "source": [
    "# data visualization \n",
    "\n",
    "plt.title(\"LVMH LR Prediction chart\")\n",
    "plt.plot(df_lr.Adj_Close, color='brown')\n",
    "plt.plot(df_lr.LR_Predicted, color='yellow')\n",
    "plt.legend()"
   ]
  },
  {
   "cell_type": "markdown",
   "metadata": {},
   "source": [
    "## 3) Random Forest Regression "
   ]
  },
  {
   "cell_type": "code",
   "execution_count": 33,
   "metadata": {},
   "outputs": [
    {
     "data": {
      "text/plain": [
       "RandomForestRegressor(max_depth=300, n_estimators=300, random_state=42)"
      ]
     },
     "execution_count": 33,
     "metadata": {},
     "output_type": "execute_result"
    }
   ],
   "source": [
    "# create and train the Random Forest Regression Model\n",
    "reg = RandomForestRegressor(n_estimators=300, max_depth=300, random_state=42)\n",
    "reg.fit(x_train, y_train)"
   ]
  },
  {
   "cell_type": "code",
   "execution_count": 34,
   "metadata": {},
   "outputs": [
    {
     "name": "stdout",
     "output_type": "stream",
     "text": [
      "reg confidence: 0.9943666092818776\n"
     ]
    }
   ],
   "source": [
    "# testing model: score returns the coefficient of determination R^2 of the prediction.\n",
    "# the best possible score is 1.0\n",
    "reg_confidence = reg.score(x_test, y_test)\n",
    "print (\"reg confidence:\", reg_confidence)"
   ]
  },
  {
   "cell_type": "code",
   "execution_count": 35,
   "metadata": {},
   "outputs": [],
   "source": [
    "# Model Evaluation \n",
    "reg_predicted = reg.predict(x_test)"
   ]
  },
  {
   "cell_type": "code",
   "execution_count": 36,
   "metadata": {},
   "outputs": [
    {
     "name": "stdout",
     "output_type": "stream",
     "text": [
      "Mean Absolute Error (MAE): 5.463347719613118\n",
      "Mean Squared Error (MSE) : 58.69571016768248\n",
      "Root Mean Squared Error (RMSE): 7.661312561675217\n"
     ]
    }
   ],
   "source": [
    "reg_mae = metrics.mean_absolute_error(y_test, reg_predicted)\n",
    "print ('Mean Absolute Error (MAE):', reg_mae)\n",
    "reg_mse = metrics.mean_squared_error(y_test, reg_predicted)\n",
    "print ('Mean Squared Error (MSE) :', reg_mse)\n",
    "reg_rmse = np.sqrt(metrics.mean_squared_error(y_test, reg_predicted))\n",
    "print ('Root Mean Squared Error (RMSE):', reg_rmse) "
   ]
  },
  {
   "cell_type": "code",
   "execution_count": 37,
   "metadata": {},
   "outputs": [],
   "source": [
    "# convert data set\n",
    "\n",
    "df_regg = pd.Series({'Mean Absolute Error' : reg_mae, 'Mean Square Error': reg_mse, 'Root Mean Squared Error': reg_rmse})\n",
    "df_regg = df_regg.reset_index()\n",
    "df_regg = df_regg.rename(columns = {0:'RF', 'index':'Eval'}, inplace=False)"
   ]
  },
  {
   "cell_type": "code",
   "execution_count": 38,
   "metadata": {},
   "outputs": [
    {
     "data": {
      "text/html": [
       "<div>\n",
       "<style scoped>\n",
       "    .dataframe tbody tr th:only-of-type {\n",
       "        vertical-align: middle;\n",
       "    }\n",
       "\n",
       "    .dataframe tbody tr th {\n",
       "        vertical-align: top;\n",
       "    }\n",
       "\n",
       "    .dataframe thead th {\n",
       "        text-align: right;\n",
       "    }\n",
       "</style>\n",
       "<table border=\"1\" class=\"dataframe\">\n",
       "  <thead>\n",
       "    <tr style=\"text-align: right;\">\n",
       "      <th></th>\n",
       "      <th>Eval</th>\n",
       "      <th>RF</th>\n",
       "    </tr>\n",
       "  </thead>\n",
       "  <tbody>\n",
       "    <tr>\n",
       "      <th>0</th>\n",
       "      <td>Mean Absolute Error</td>\n",
       "      <td>5.463348</td>\n",
       "    </tr>\n",
       "    <tr>\n",
       "      <th>1</th>\n",
       "      <td>Mean Square Error</td>\n",
       "      <td>58.695710</td>\n",
       "    </tr>\n",
       "    <tr>\n",
       "      <th>2</th>\n",
       "      <td>Root Mean Squared Error</td>\n",
       "      <td>7.661313</td>\n",
       "    </tr>\n",
       "  </tbody>\n",
       "</table>\n",
       "</div>"
      ],
      "text/plain": [
       "                      Eval         RF\n",
       "0      Mean Absolute Error   5.463348\n",
       "1        Mean Square Error  58.695710\n",
       "2  Root Mean Squared Error   7.661313"
      ]
     },
     "execution_count": 38,
     "metadata": {},
     "output_type": "execute_result"
    }
   ],
   "source": [
    "df_regg"
   ]
  },
  {
   "cell_type": "code",
   "execution_count": 39,
   "metadata": {},
   "outputs": [
    {
     "data": {
      "text/html": [
       "<div>\n",
       "<style scoped>\n",
       "    .dataframe tbody tr th:only-of-type {\n",
       "        vertical-align: middle;\n",
       "    }\n",
       "\n",
       "    .dataframe tbody tr th {\n",
       "        vertical-align: top;\n",
       "    }\n",
       "\n",
       "    .dataframe thead th {\n",
       "        text-align: right;\n",
       "    }\n",
       "</style>\n",
       "<table border=\"1\" class=\"dataframe\">\n",
       "  <thead>\n",
       "    <tr style=\"text-align: right;\">\n",
       "      <th></th>\n",
       "      <th>Adj_Close</th>\n",
       "      <th>RF_Predicted</th>\n",
       "    </tr>\n",
       "  </thead>\n",
       "  <tbody>\n",
       "    <tr>\n",
       "      <th>0</th>\n",
       "      <td>415.583221</td>\n",
       "      <td>422.731589</td>\n",
       "    </tr>\n",
       "    <tr>\n",
       "      <th>1</th>\n",
       "      <td>387.086121</td>\n",
       "      <td>382.831807</td>\n",
       "    </tr>\n",
       "    <tr>\n",
       "      <th>2</th>\n",
       "      <td>244.748245</td>\n",
       "      <td>244.814320</td>\n",
       "    </tr>\n",
       "    <tr>\n",
       "      <th>3</th>\n",
       "      <td>339.699341</td>\n",
       "      <td>335.761422</td>\n",
       "    </tr>\n",
       "    <tr>\n",
       "      <th>4</th>\n",
       "      <td>254.549515</td>\n",
       "      <td>243.921673</td>\n",
       "    </tr>\n",
       "    <tr>\n",
       "      <th>...</th>\n",
       "      <td>...</td>\n",
       "      <td>...</td>\n",
       "    </tr>\n",
       "    <tr>\n",
       "      <th>216</th>\n",
       "      <td>367.741669</td>\n",
       "      <td>365.538244</td>\n",
       "    </tr>\n",
       "    <tr>\n",
       "      <th>217</th>\n",
       "      <td>235.676529</td>\n",
       "      <td>224.084915</td>\n",
       "    </tr>\n",
       "    <tr>\n",
       "      <th>218</th>\n",
       "      <td>549.857727</td>\n",
       "      <td>559.809172</td>\n",
       "    </tr>\n",
       "    <tr>\n",
       "      <th>219</th>\n",
       "      <td>240.392105</td>\n",
       "      <td>248.531789</td>\n",
       "    </tr>\n",
       "    <tr>\n",
       "      <th>220</th>\n",
       "      <td>550.652588</td>\n",
       "      <td>553.272825</td>\n",
       "    </tr>\n",
       "  </tbody>\n",
       "</table>\n",
       "<p>221 rows × 2 columns</p>\n",
       "</div>"
      ],
      "text/plain": [
       "      Adj_Close  RF_Predicted\n",
       "0    415.583221    422.731589\n",
       "1    387.086121    382.831807\n",
       "2    244.748245    244.814320\n",
       "3    339.699341    335.761422\n",
       "4    254.549515    243.921673\n",
       "..          ...           ...\n",
       "216  367.741669    365.538244\n",
       "217  235.676529    224.084915\n",
       "218  549.857727    559.809172\n",
       "219  240.392105    248.531789\n",
       "220  550.652588    553.272825\n",
       "\n",
       "[221 rows x 2 columns]"
      ]
     },
     "execution_count": 39,
     "metadata": {},
     "output_type": "execute_result"
    }
   ],
   "source": [
    "df_reg = pd.DataFrame({'Adj_Close' : y_test, 'RF_Predicted' : reg_predicted})\n",
    "df_reg"
   ]
  },
  {
   "cell_type": "code",
   "execution_count": 40,
   "metadata": {},
   "outputs": [
    {
     "data": {
      "image/png": "[encoded data removed]",
      "text/plain": [
       "<Figure size 432x288 with 1 Axes>"
      ]
     },
     "metadata": {},
     "output_type": "display_data"
    }
   ],
   "source": [
    "# data visualization\n",
    "\n",
    "plt.scatter(df_reg.Adj_Close, df_reg.RF_Predicted, color='purple')\n",
    "plt.title('Random Forest Regression')\n",
    "plt.xlabel(\"Actual Adj Close Price\")\n",
    "plt.ylabel(\"Predicted Price\")\n",
    "plt.show()"
   ]
  },
  {
   "cell_type": "code",
   "execution_count": 41,
   "metadata": {},
   "outputs": [
    {
     "name": "stderr",
     "output_type": "stream",
     "text": [
      "No handles with labels found to put in legend.\n"
     ]
    },
    {
     "data": {
      "text/plain": [
       "<matplotlib.legend.Legend at 0x2911c15cee0>"
      ]
     },
     "execution_count": 41,
     "metadata": {},
     "output_type": "execute_result"
    },
    {
     "data": {
      "image/png": "[encoded data removed]",
      "text/plain": [
       "<Figure size 432x288 with 1 Axes>"
      ]
     },
     "metadata": {},
     "output_type": "display_data"
    }
   ],
   "source": [
    "# data visualization \n",
    "\n",
    "plt.title(\"LVMH RF Prediction chart\")\n",
    "plt.plot(df_svr.Adj_Close, color='black')\n",
    "plt.plot(df_svr.SVR_Predicted, color='pink')\n",
    "plt.legend()"
   ]
  },
  {
   "cell_type": "markdown",
   "metadata": {},
   "source": [
    "## 4) XGBoost"
   ]
  },
  {
   "cell_type": "code",
   "execution_count": 42,
   "metadata": {
    "scrolled": true
   },
   "outputs": [
    {
     "data": {
      "text/plain": [
       "XGBRegressor(base_score=0.5, booster='gbtree', colsample_bylevel=1,\n",
       "             colsample_bynode=1, colsample_bytree=1, gamma=0, gpu_id=-1,\n",
       "             importance_type='gain', interaction_constraints='',\n",
       "             learning_rate=0.300000012, max_delta_step=0, max_depth=6,\n",
       "             min_child_weight=1, missing=nan, monotone_constraints='()',\n",
       "             n_estimators=1000, n_jobs=8, num_parallel_tree=1, random_state=0,\n",
       "             reg_alpha=0, reg_lambda=1, scale_pos_weight=1, subsample=1,\n",
       "             tree_method='exact', validate_parameters=1, verbosity=None)"
      ]
     },
     "execution_count": 42,
     "metadata": {},
     "output_type": "execute_result"
    }
   ],
   "source": [
    "# create and train the XGBoost Model\n",
    "xgb = XGBRegressor(objective='reg:squarederror', n_estimators=1000)\n",
    "xgb.fit(x_train, y_train)"
   ]
  },
  {
   "cell_type": "code",
   "execution_count": 43,
   "metadata": {},
   "outputs": [
    {
     "name": "stdout",
     "output_type": "stream",
     "text": [
      "xgb confidence: 0.9927036901808107\n"
     ]
    }
   ],
   "source": [
    "# testing model: score returns the coefficient of determination R^2 of the prediction.\n",
    "# the best possible score is 1.0\n",
    "xgb_confidence = xgb.score(x_test, y_test)\n",
    "print (\"xgb confidence:\", xgb_confidence)"
   ]
  },
  {
   "cell_type": "code",
   "execution_count": 44,
   "metadata": {},
   "outputs": [],
   "source": [
    "# Model Evaluation \n",
    "xgb_predicted = xgb.predict(x_test)"
   ]
  },
  {
   "cell_type": "code",
   "execution_count": 45,
   "metadata": {},
   "outputs": [
    {
     "name": "stdout",
     "output_type": "stream",
     "text": [
      "Mean Absolute Error (MAE): 6.20512769880338\n",
      "Mean Squared Error (MSE) : 76.0220811709454\n",
      "Root Mean Squared Error (RMSE): 8.719064237115438\n"
     ]
    }
   ],
   "source": [
    "xgb_mae = metrics.mean_absolute_error(y_test, xgb_predicted)\n",
    "print ('Mean Absolute Error (MAE):', xgb_mae)\n",
    "xgb_mse = metrics.mean_squared_error(y_test, xgb_predicted)\n",
    "print ('Mean Squared Error (MSE) :', xgb_mse)\n",
    "xgb_rmse = np.sqrt(metrics.mean_squared_error(y_test, xgb_predicted))\n",
    "print ('Root Mean Squared Error (RMSE):', xgb_rmse) "
   ]
  },
  {
   "cell_type": "code",
   "execution_count": 46,
   "metadata": {},
   "outputs": [],
   "source": [
    "# convert data set \n",
    "\n",
    "df_xgbb = pd.Series({'Mean Absolute Error' : xgb_mae, 'Mean Square Error': xgb_mse, 'Root Mean Squared Error': xgb_rmse})\n",
    "df_xgbb = df_xgbb.reset_index()\n",
    "df_xgbb = df_xgbb.rename(columns = {0:'XGB', 'index':'Eval'}, inplace=False)"
   ]
  },
  {
   "cell_type": "code",
   "execution_count": 47,
   "metadata": {},
   "outputs": [
    {
     "data": {
      "text/html": [
       "<div>\n",
       "<style scoped>\n",
       "    .dataframe tbody tr th:only-of-type {\n",
       "        vertical-align: middle;\n",
       "    }\n",
       "\n",
       "    .dataframe tbody tr th {\n",
       "        vertical-align: top;\n",
       "    }\n",
       "\n",
       "    .dataframe thead th {\n",
       "        text-align: right;\n",
       "    }\n",
       "</style>\n",
       "<table border=\"1\" class=\"dataframe\">\n",
       "  <thead>\n",
       "    <tr style=\"text-align: right;\">\n",
       "      <th></th>\n",
       "      <th>Eval</th>\n",
       "      <th>XGB</th>\n",
       "    </tr>\n",
       "  </thead>\n",
       "  <tbody>\n",
       "    <tr>\n",
       "      <th>0</th>\n",
       "      <td>Mean Absolute Error</td>\n",
       "      <td>6.205128</td>\n",
       "    </tr>\n",
       "    <tr>\n",
       "      <th>1</th>\n",
       "      <td>Mean Square Error</td>\n",
       "      <td>76.022081</td>\n",
       "    </tr>\n",
       "    <tr>\n",
       "      <th>2</th>\n",
       "      <td>Root Mean Squared Error</td>\n",
       "      <td>8.719064</td>\n",
       "    </tr>\n",
       "  </tbody>\n",
       "</table>\n",
       "</div>"
      ],
      "text/plain": [
       "                      Eval        XGB\n",
       "0      Mean Absolute Error   6.205128\n",
       "1        Mean Square Error  76.022081\n",
       "2  Root Mean Squared Error   8.719064"
      ]
     },
     "execution_count": 47,
     "metadata": {},
     "output_type": "execute_result"
    }
   ],
   "source": [
    "df_xgbb"
   ]
  },
  {
   "cell_type": "code",
   "execution_count": 48,
   "metadata": {},
   "outputs": [
    {
     "data": {
      "text/html": [
       "<div>\n",
       "<style scoped>\n",
       "    .dataframe tbody tr th:only-of-type {\n",
       "        vertical-align: middle;\n",
       "    }\n",
       "\n",
       "    .dataframe tbody tr th {\n",
       "        vertical-align: top;\n",
       "    }\n",
       "\n",
       "    .dataframe thead th {\n",
       "        text-align: right;\n",
       "    }\n",
       "</style>\n",
       "<table border=\"1\" class=\"dataframe\">\n",
       "  <thead>\n",
       "    <tr style=\"text-align: right;\">\n",
       "      <th></th>\n",
       "      <th>Adj_Close</th>\n",
       "      <th>XGB_Predicted</th>\n",
       "    </tr>\n",
       "  </thead>\n",
       "  <tbody>\n",
       "    <tr>\n",
       "      <th>0</th>\n",
       "      <td>415.583221</td>\n",
       "      <td>423.415558</td>\n",
       "    </tr>\n",
       "    <tr>\n",
       "      <th>1</th>\n",
       "      <td>387.086121</td>\n",
       "      <td>382.086914</td>\n",
       "    </tr>\n",
       "    <tr>\n",
       "      <th>2</th>\n",
       "      <td>244.748245</td>\n",
       "      <td>243.007111</td>\n",
       "    </tr>\n",
       "    <tr>\n",
       "      <th>3</th>\n",
       "      <td>339.699341</td>\n",
       "      <td>338.236389</td>\n",
       "    </tr>\n",
       "    <tr>\n",
       "      <th>4</th>\n",
       "      <td>254.549515</td>\n",
       "      <td>241.692780</td>\n",
       "    </tr>\n",
       "    <tr>\n",
       "      <th>...</th>\n",
       "      <td>...</td>\n",
       "      <td>...</td>\n",
       "    </tr>\n",
       "    <tr>\n",
       "      <th>216</th>\n",
       "      <td>367.741669</td>\n",
       "      <td>367.524689</td>\n",
       "    </tr>\n",
       "    <tr>\n",
       "      <th>217</th>\n",
       "      <td>235.676529</td>\n",
       "      <td>223.574844</td>\n",
       "    </tr>\n",
       "    <tr>\n",
       "      <th>218</th>\n",
       "      <td>549.857727</td>\n",
       "      <td>560.579956</td>\n",
       "    </tr>\n",
       "    <tr>\n",
       "      <th>219</th>\n",
       "      <td>240.392105</td>\n",
       "      <td>246.048813</td>\n",
       "    </tr>\n",
       "    <tr>\n",
       "      <th>220</th>\n",
       "      <td>550.652588</td>\n",
       "      <td>553.031921</td>\n",
       "    </tr>\n",
       "  </tbody>\n",
       "</table>\n",
       "<p>221 rows × 2 columns</p>\n",
       "</div>"
      ],
      "text/plain": [
       "      Adj_Close  XGB_Predicted\n",
       "0    415.583221     423.415558\n",
       "1    387.086121     382.086914\n",
       "2    244.748245     243.007111\n",
       "3    339.699341     338.236389\n",
       "4    254.549515     241.692780\n",
       "..          ...            ...\n",
       "216  367.741669     367.524689\n",
       "217  235.676529     223.574844\n",
       "218  549.857727     560.579956\n",
       "219  240.392105     246.048813\n",
       "220  550.652588     553.031921\n",
       "\n",
       "[221 rows x 2 columns]"
      ]
     },
     "execution_count": 48,
     "metadata": {},
     "output_type": "execute_result"
    }
   ],
   "source": [
    "df_xgb = pd.DataFrame({'Adj_Close' : y_test, 'XGB_Predicted' : xgb_predicted})\n",
    "df_xgb"
   ]
  },
  {
   "cell_type": "code",
   "execution_count": 49,
   "metadata": {},
   "outputs": [
    {
     "data": {
      "image/png": "[encoded data removed]",
      "text/plain": [
       "<Figure size 432x288 with 1 Axes>"
      ]
     },
     "metadata": {},
     "output_type": "display_data"
    }
   ],
   "source": [
    "# data visualization\n",
    "\n",
    "plt.scatter(df_xgb.Adj_Close, df_xgb.XGB_Predicted, color='orange')\n",
    "plt.title('XGBoost')\n",
    "plt.xlabel(\"Actual Adj Close Price\")\n",
    "plt.ylabel(\"Predicted Price\")\n",
    "plt.show()"
   ]
  },
  {
   "cell_type": "code",
   "execution_count": 50,
   "metadata": {},
   "outputs": [
    {
     "name": "stderr",
     "output_type": "stream",
     "text": [
      "No handles with labels found to put in legend.\n"
     ]
    },
    {
     "data": {
      "text/plain": [
       "<matplotlib.legend.Legend at 0x2911c1e4190>"
      ]
     },
     "execution_count": 50,
     "metadata": {},
     "output_type": "execute_result"
    },
    {
     "data": {
      "image/png": "[encoded data removed]",
      "text/plain": [
       "<Figure size 432x288 with 1 Axes>"
      ]
     },
     "metadata": {},
     "output_type": "display_data"
    }
   ],
   "source": [
    "# data visualization \n",
    "\n",
    "plt.title(\"LVMH SVR Prediction chart\")\n",
    "plt.plot(df_svr.Adj_Close, color='red')\n",
    "plt.plot(df_svr.SVR_Predicted, color='lightgreen')\n",
    "plt.legend()"
   ]
  },
  {
   "cell_type": "code",
   "execution_count": 51,
   "metadata": {},
   "outputs": [
    {
     "data": {
      "text/html": [
       "<div>\n",
       "<style scoped>\n",
       "    .dataframe tbody tr th:only-of-type {\n",
       "        vertical-align: middle;\n",
       "    }\n",
       "\n",
       "    .dataframe tbody tr th {\n",
       "        vertical-align: top;\n",
       "    }\n",
       "\n",
       "    .dataframe thead th {\n",
       "        text-align: right;\n",
       "    }\n",
       "</style>\n",
       "<table border=\"1\" class=\"dataframe\">\n",
       "  <thead>\n",
       "    <tr style=\"text-align: right;\">\n",
       "      <th></th>\n",
       "      <th>Adj_Close</th>\n",
       "      <th>SVR_Predicted</th>\n",
       "      <th>LR_Predicted</th>\n",
       "      <th>RF_Predicted</th>\n",
       "      <th>XGB_Predicted</th>\n",
       "    </tr>\n",
       "  </thead>\n",
       "  <tbody>\n",
       "    <tr>\n",
       "      <th>0</th>\n",
       "      <td>415.583221</td>\n",
       "      <td>423.679488</td>\n",
       "      <td>421.882903</td>\n",
       "      <td>422.731589</td>\n",
       "      <td>423.415558</td>\n",
       "    </tr>\n",
       "    <tr>\n",
       "      <th>1</th>\n",
       "      <td>387.086121</td>\n",
       "      <td>384.476244</td>\n",
       "      <td>387.309614</td>\n",
       "      <td>382.831807</td>\n",
       "      <td>382.086914</td>\n",
       "    </tr>\n",
       "    <tr>\n",
       "      <th>2</th>\n",
       "      <td>387.086121</td>\n",
       "      <td>384.476244</td>\n",
       "      <td>387.309614</td>\n",
       "      <td>382.831807</td>\n",
       "      <td>386.671936</td>\n",
       "    </tr>\n",
       "    <tr>\n",
       "      <th>3</th>\n",
       "      <td>387.086121</td>\n",
       "      <td>384.476244</td>\n",
       "      <td>387.309614</td>\n",
       "      <td>384.349685</td>\n",
       "      <td>382.086914</td>\n",
       "    </tr>\n",
       "    <tr>\n",
       "      <th>4</th>\n",
       "      <td>387.086121</td>\n",
       "      <td>384.476244</td>\n",
       "      <td>387.309614</td>\n",
       "      <td>384.349685</td>\n",
       "      <td>386.671936</td>\n",
       "    </tr>\n",
       "  </tbody>\n",
       "</table>\n",
       "</div>"
      ],
      "text/plain": [
       "    Adj_Close  SVR_Predicted  LR_Predicted  RF_Predicted  XGB_Predicted\n",
       "0  415.583221     423.679488    421.882903    422.731589     423.415558\n",
       "1  387.086121     384.476244    387.309614    382.831807     382.086914\n",
       "2  387.086121     384.476244    387.309614    382.831807     386.671936\n",
       "3  387.086121     384.476244    387.309614    384.349685     382.086914\n",
       "4  387.086121     384.476244    387.309614    384.349685     386.671936"
      ]
     },
     "execution_count": 51,
     "metadata": {},
     "output_type": "execute_result"
    }
   ],
   "source": [
    "# choose the best model\n",
    "\n",
    "df_final = pd.merge(df_svr, df_lr, 'inner', 'Adj_Close')\n",
    "df_final = pd.merge(df_final, df_reg, 'inner', 'Adj_Close')\n",
    "df_final = pd.merge(df_final, df_xgb, 'inner', 'Adj_Close')\n",
    "df_final.head()"
   ]
  },
  {
   "cell_type": "code",
   "execution_count": 52,
   "metadata": {},
   "outputs": [
    {
     "data": {
      "text/html": [
       "<div>\n",
       "<style scoped>\n",
       "    .dataframe tbody tr th:only-of-type {\n",
       "        vertical-align: middle;\n",
       "    }\n",
       "\n",
       "    .dataframe tbody tr th {\n",
       "        vertical-align: top;\n",
       "    }\n",
       "\n",
       "    .dataframe thead th {\n",
       "        text-align: right;\n",
       "    }\n",
       "</style>\n",
       "<table border=\"1\" class=\"dataframe\">\n",
       "  <thead>\n",
       "    <tr style=\"text-align: right;\">\n",
       "      <th></th>\n",
       "      <th>Eval</th>\n",
       "      <th>SVR</th>\n",
       "      <th>LR</th>\n",
       "      <th>RF</th>\n",
       "      <th>XGB</th>\n",
       "    </tr>\n",
       "  </thead>\n",
       "  <tbody>\n",
       "    <tr>\n",
       "      <th>0</th>\n",
       "      <td>Mean Absolute Error</td>\n",
       "      <td>5.132023</td>\n",
       "      <td>4.319618</td>\n",
       "      <td>5.463348</td>\n",
       "      <td>6.205128</td>\n",
       "    </tr>\n",
       "    <tr>\n",
       "      <th>1</th>\n",
       "      <td>Mean Square Error</td>\n",
       "      <td>54.993671</td>\n",
       "      <td>40.123804</td>\n",
       "      <td>58.695710</td>\n",
       "      <td>76.022081</td>\n",
       "    </tr>\n",
       "    <tr>\n",
       "      <th>2</th>\n",
       "      <td>Root Mean Squared Error</td>\n",
       "      <td>7.415772</td>\n",
       "      <td>6.334335</td>\n",
       "      <td>7.661313</td>\n",
       "      <td>8.719064</td>\n",
       "    </tr>\n",
       "  </tbody>\n",
       "</table>\n",
       "</div>"
      ],
      "text/plain": [
       "                      Eval        SVR         LR         RF        XGB\n",
       "0      Mean Absolute Error   5.132023   4.319618   5.463348   6.205128\n",
       "1        Mean Square Error  54.993671  40.123804  58.695710  76.022081\n",
       "2  Root Mean Squared Error   7.415772   6.334335   7.661313   8.719064"
      ]
     },
     "execution_count": 52,
     "metadata": {},
     "output_type": "execute_result"
    }
   ],
   "source": [
    "df_eval = pd.merge(df_svrr, df_lrr, 'inner', 'Eval')\n",
    "df_eval = pd.merge(df_eval, df_regg, 'inner', 'Eval')\n",
    "df_eval = pd.merge(df_eval, df_xgbb, 'inner', 'Eval')\n",
    "df_eval"
   ]
  },
  {
   "cell_type": "markdown",
   "metadata": {},
   "source": [
    "# Summary\n",
    "Above observation, Linear Regression model gives the best result which has the nearest score R^2 & RMSE amongst the machine learning models."
   ]
  },
  {
   "cell_type": "markdown",
   "metadata": {},
   "source": [
    "## The next day stock price prediction."
   ]
  },
  {
   "cell_type": "code",
   "execution_count": 53,
   "metadata": {},
   "outputs": [
    {
     "data": {
      "text/plain": [
       "array([[626.20001221]])"
      ]
     },
     "execution_count": 53,
     "metadata": {},
     "output_type": "execute_result"
    }
   ],
   "source": [
    "# set x_forecast equal to the last \"n\" row of the original data set form Adj Close column.\n",
    "x_forecast = np.array(df.drop(['Prediction'], 1))[-forecast_out:]\n",
    "x_forecast"
   ]
  },
  {
   "cell_type": "code",
   "execution_count": 54,
   "metadata": {},
   "outputs": [
    {
     "name": "stdout",
     "output_type": "stream",
     "text": [
      "svr prediction: [629.51251731]\n"
     ]
    }
   ],
   "source": [
    "# print Support Vector Regressor model prediction for the next 'n' days\n",
    "svr_prediction = svr_rbf.predict(x_forecast)\n",
    "print (\"svr prediction:\", svr_prediction)"
   ]
  },
  {
   "cell_type": "code",
   "execution_count": 55,
   "metadata": {},
   "outputs": [
    {
     "name": "stdout",
     "output_type": "stream",
     "text": [
      "lr prediction: [626.36032116]\n"
     ]
    }
   ],
   "source": [
    "# print Linear Regression model prediction for the next 'n' days\n",
    "lr_prediction = lr.predict(x_forecast)\n",
    "print (\"lr prediction:\", lr_prediction)"
   ]
  },
  {
   "cell_type": "code",
   "execution_count": 56,
   "metadata": {},
   "outputs": [
    {
     "name": "stdout",
     "output_type": "stream",
     "text": [
      "reg prediction: [625.76101685]\n"
     ]
    }
   ],
   "source": [
    "# print Random Forest Regression model prediction for the next 'n' days\n",
    "reg_prediction = reg.predict(x_forecast)\n",
    "print (\"reg prediction:\", reg_prediction)"
   ]
  },
  {
   "cell_type": "code",
   "execution_count": 57,
   "metadata": {},
   "outputs": [
    {
     "name": "stdout",
     "output_type": "stream",
     "text": [
      "xgb prediction: [620.9164]\n"
     ]
    }
   ],
   "source": [
    "# print XGBoost model prediction for the next 'n' days\n",
    "xgb_prediction = xgb.predict(x_forecast)\n",
    "print (\"xgb prediction:\", xgb_prediction)"
   ]
  },
  {
   "cell_type": "code",
   "execution_count": null,
   "metadata": {},
   "outputs": [],
   "source": []
  }
 ],
 "metadata": {
  "kernelspec": {
   "display_name": "Python 3",
   "language": "python",
   "name": "python3"
  },
  "language_info": {
   "codemirror_mode": {
    "name": "ipython",
    "version": 3
   },
   "file_extension": ".py",
   "mimetype": "text/x-python",
   "name": "python",
   "nbconvert_exporter": "python",
   "pygments_lexer": "ipython3",
   "version": "3.8.5"
  }
 },
 "nbformat": 4,
 "nbformat_minor": 4
}
